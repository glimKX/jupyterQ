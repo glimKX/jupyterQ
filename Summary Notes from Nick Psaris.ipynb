{
 "cells": [
  {
   "cell_type": "markdown",
   "metadata": {},
   "source": [
    "# Nick Psaris - Q tips"
   ]
  },
  {
   "cell_type": "code",
   "execution_count": 1,
   "metadata": {
    "collapsed": true
   },
   "outputs": [],
   "source": [
    "/\n",
    "initalise with large console size\n",
    "\\\n",
    "\\c 300 200"
   ]
  },
  {
   "cell_type": "markdown",
   "metadata": {},
   "source": [
    "## Box-Muller\n",
    "Converts 2 uniform random variates into 2 normal random variables - accurate but requires 2 uniform random hence high computation\n",
    "\n",
    "- Convert two uniform random variables into polar coordinates of a normally distributed variables\n",
    "- Transform back into rectangular coordinates"
   ]
  },
  {
   "cell_type": "code",
   "execution_count": 2,
   "metadata": {},
   "outputs": [
    {
     "data": {
      "text/plain": [
       "-1.359294 -0.1465337\r\n"
      ]
     },
     "execution_count": 2,
     "metadata": {},
     "output_type": "execute_result"
    }
   ],
   "source": [
    ".stat.bm:{\n",
    "    if[count[x] mod 2;'`length];\n",
    "    x:2 0N#x; /reshape list into columns with 2 rows, used to create matrix when N x M is passed in\n",
    "    r:sqrt -2f*log x 0;\n",
    "    theta:2f*acos[-1]*x 1;\n",
    "    x: r*cos theta;\n",
    "    x,:r*sin theta;\n",
    "    x\n",
    " }\n",
    "/\n",
    "To utilise this, throw in even numbers\n",
    "Care that its acos[-1].\n",
    "This algo is popular with speed\n",
    "Have to check the math behind this normally distributed random number generator\n",
    "This assumes that the prior numbers were uniformly distributed\n",
    "\\\n",
    ".stat.bm[2?1f]"
   ]
  },
  {
   "cell_type": "markdown",
   "metadata": {},
   "source": [
    "## Central Region & Horner's Method\n",
    "\n",
    "- cnorminv: polynomial coefficients a and b and uses horners to compute two polynomial approximations\n",
    "- horner: list of polynomial and initial value, iterative addition same as **sv**\n"
   ]
  },
  {
   "cell_type": "code",
   "execution_count": 3,
   "metadata": {
    "collapsed": true
   },
   "outputs": [],
   "source": [
    ".stat.cnorminv:{\n",
    "    a:-25.44106049367 41.39119773534 -18.61500062529 2.50662823884;\n",
    "    b:3.13082909833 -21.06224101826 23.08336743743 -8.47351093090 1;\n",
    "    x*:horner[a;s]%horner[b] s:x*x-:.5;\n",
    "    x}\n",
    ".stat.horner:{{z+y*x}[y]/[x]}\n",
    "\n",
    "/\n",
    "loading in some stats function, would be better to just download the q script\n",
    "\\"
   ]
  },
  {
   "cell_type": "markdown",
   "metadata": {},
   "source": [
    "## Using Over/Scan in Exponentially weighted moving average\n",
    "- X:Decay Factor\n",
    "- Y:List of observations\n",
    "\n",
    "Interpretation of the scan function here:\n",
    "The function simplifies into the follow if x is 0.1\n",
    "{{(x*1-0.1)+y*0.1}\\[x]}\n",
    "if x is [0 2 3]\n",
    "The first iteration does not evaluates since y will missing\n",
    "so the result will be the first value in the list\n",
    "This result is passed back into x and y will take on the next value in the list\n",
    "hence 0*0.9+2*0.1"
   ]
  },
  {
   "cell_type": "code",
   "execution_count": 4,
   "metadata": {},
   "outputs": [
    {
     "data": {
      "text/plain": [
       "0\r\n",
       "0.25\r\n",
       "0.6875\r\n",
       "1.265625\r\n",
       "1.949219\r\n",
       "2.711914\r\n",
       "3.533936\r\n",
       "4.400452\r\n",
       "5.300339\r\n",
       "6.225254\r\n"
      ]
     },
     "execution_count": 4,
     "metadata": {},
     "output_type": "execute_result"
    }
   ],
   "source": [
    "ewma:{{(y*1-x)+z*x}[x]\\[y]}\n",
    "\n",
    "ewma[.25;til 10]"
   ]
  },
  {
   "cell_type": "markdown",
   "metadata": {},
   "source": [
    "## Environmental Variables \n",
    "It is useful to use inbuilt q function to obtain envVar from symbols\n",
    "- getenv to obtain envVar\n",
    "- setenv to set new envVar or overwrite"
   ]
  },
  {
   "cell_type": "code",
   "execution_count": 5,
   "metadata": {},
   "outputs": [
    {
     "data": {
      "text/plain": [
       "\"C:\\\\q\"\r\n"
      ]
     },
     "execution_count": 5,
     "metadata": {},
     "output_type": "execute_result"
    }
   ],
   "source": [
    "getenv`QHOME"
   ]
  },
  {
   "cell_type": "markdown",
   "metadata": {},
   "source": [
    "## Geometric Brownian Motion\n",
    "The gbm function introduced here uses 4 parameter\n",
    "- s:stock volatility (sigma)\n",
    "- r:rate of drift \n",
    "- t:interval time step\n",
    "- z:normal random realization\n",
    "\n",
    "This function transform list of normal random variables into list of returns scaled to the specific time interval, volatility and drift"
   ]
  },
  {
   "cell_type": "code",
   "execution_count": 6,
   "metadata": {},
   "outputs": [
    {
     "data": {
      "text/plain": [
       "securityPrice| 98.12996  98.04308  95.03049  97.3351  96.1348   97.45416 98.88362 101.4068 103.1771 104.7877 100.9684  101.3488 103.3833 101.6246  103.5563 102.0794  99.73724  100.2673 101.0993 101..\r\n",
       "randChanges  | 0.9812996 0.9991147 0.9692727 1.024251 0.9876683 1.013724 1.014668 1.025517 1.017457 1.01561  0.9635518 1.003768 1.020074 0.9829884 1.019009 0.9857383 0.9770553 1.005315 1.008297 1.0..\r\n"
      ]
     },
     "execution_count": 6,
     "metadata": {},
     "output_type": "execute_result"
    }
   ],
   "source": [
    ".stat.gbm:{[s;r;t;z] exp(t*r-.5*s*s)+z*s*sqrt t}\n",
    "\n",
    "`securityPrice`randChanges!(100*prds x;x:.stat.gbm[.30;.05;1%252] .stat.bm 252?1f)\n",
    "\n",
    "/\n",
    "Note that this produces a path with 252 daily steps for a stock with an annual volatiltiy of 30% growing at 5% a year\n",
    "\\"
   ]
  },
  {
   "cell_type": "markdown",
   "metadata": {},
   "source": [
    "## Uniform Functions\n",
    "\n",
    "scan functions hence produces a list of intermediate results\n",
    "mainly ends with *s* at the back of the function\n",
    "- **avgs**: each Element is the avg of all prior elements\n",
    "- **deltas**: each Element if the difference between itself and the prior value\n",
    "- **fills**: each Element is filled with the prior value if null\n",
    "- **maxs**: each Element is the maximum value of all prior elements\n",
    "- **mins**: each Element is the minimum value of all prior elements\n",
    "- **prds**: each Element is the product of all prior elements\n",
    "- **ratios**: each Element is the ratio of itself and the prior value\n",
    "- **sums**: each Element is the summation of all prior elements"
   ]
  },
  {
   "cell_type": "code",
   "execution_count": 7,
   "metadata": {},
   "outputs": [
    {
     "data": {
      "text/plain": [
       "0 1 1 1 1\r\n"
      ]
     },
     "execution_count": 7,
     "metadata": {},
     "output_type": "execute_result"
    },
    {
     "data": {
      "text/plain": [
       "1 1 1 1 1\r\n"
      ]
     },
     "execution_count": 7,
     "metadata": {},
     "output_type": "execute_result"
    }
   ],
   "source": [
    "/\n",
    "Recall that using uniform functions\n",
    "it will interact will all prior elements\n",
    "This can cause an issue if u do not want minus 0 as the first element\n",
    "Hence we can pass in x and y into the function\n",
    "\\\n",
    "deltas[1;1+til 5]\n",
    "\n",
    "deltas[1+til 5]"
   ]
  },
  {
   "cell_type": "markdown",
   "metadata": {},
   "source": [
    "## Dictionary\n",
    "We usually use x!y where x and y are equal length list to create a dictionary \n",
    "But if we have pair wise list we can also make a dictionary by manipulating **!** from infix dyadic with the dot operater\n",
    "This converts it into a noun through parentheses"
   ]
  },
  {
   "cell_type": "code",
   "execution_count": 8,
   "metadata": {},
   "outputs": [
    {
     "name": "stdout",
     "output_type": "stream",
     "text": [
      "(2001.01.01 2001.01.02 2001.01.03 2001.01.04 2001.01.05 2001.01.06 2001.01.07 2001.01.08 2001.01.09 2001.01.10 2001.01.11 2001.01.12 2001.01.13 2001.01.14 2001.01.15 2001.01.16 2001.01.17 2001.01.1..\n"
     ]
    },
    {
     "data": {
      "text/plain": [
       "2001.01.01 2001.01.02 2001.01.03 2001.01.04 2001.01.05 2001.01.06 2001.01.07 2001.01.08 2001.01.09 2001.01.10 2001.01.11 2001.01.12 2001.01.13 2001.01.14 2001.01.15 2001.01.16 2001.01.17 2001.01.18..\r\n",
       "955.0901   615.8515   702.455    355.0381   361.5143   908.9531   206.2569   481.821    206.5625   522.9178   333.8806   414.621    972.5813   542.2726   611.6582   341.4991   951.6746   116.9475  ..\r\n"
      ]
     },
     "execution_count": 8,
     "metadata": {},
     "output_type": "execute_result"
    },
    {
     "data": {
      "text/plain": [
       "2001.01.01| 955.0901\r\n",
       "2001.01.02| 615.8515\r\n",
       "2001.01.03| 702.455\r\n",
       "2001.01.04| 355.0381\r\n",
       "2001.01.05| 361.5143\r\n",
       "2001.01.06| 908.9531\r\n",
       "2001.01.07| 206.2569\r\n",
       "2001.01.08| 481.821\r\n",
       "2001.01.09| 206.5625\r\n",
       "2001.01.10| 522.9178\r\n",
       "2001.01.11| 333.8806\r\n",
       "2001.01.12| 414.621\r\n",
       "2001.01.13| 972.5813\r\n",
       "2001.01.14| 542.2726\r\n",
       "2001.01.15| 611.6582\r\n",
       "2001.01.16| 341.4991\r\n",
       "2001.01.17| 951.6746\r\n",
       "2001.01.18| 116.9475\r\n",
       "2001.01.19| 815.8957\r\n",
       "2001.01.20| 609.1539\r\n",
       "2001.01.21| 983.0794\r\n",
       "2001.01.22| 754.3122\r\n",
       "2001.01.23| 381.3679\r\n",
       "2001.01.24| 31.12646\r\n",
       "2001.01.25| 419.4691\r\n",
       "2001.01.26| 186.2869\r\n",
       "2001.01.27| 795.9531\r\n",
       "2001.01.28| 366.7275\r\n",
       "2001.01.29| 516.5234\r\n",
       "2001.01.30| 65.41696\r\n",
       "2001.01.31| 597.383\r\n",
       "2001.02.01| 636.9711\r\n",
       "2001.02.02| 218.0873\r\n",
       "2001.02.03| 507.5745\r\n",
       "2001.02.04| 417.6994\r\n",
       "2001.02.05| 19.20741\r\n",
       "2001.02.06| 876.1714\r\n",
       "2001.02.07| 757.5856\r\n",
       "2001.02.08| 603.0223\r\n",
       "2001.02.09| 181.1364\r\n",
       "2001.02.10| 232.9662\r\n",
       "2001.02.11| 250.046\r\n",
       "2001.02.12| 73.7272\r\n",
       "2001.02.13| 318.6642\r\n",
       "2001.02.14| 187.2634\r\n",
       "2001.02.15| 841.6288\r\n",
       "2001.02.16| 725.0709\r\n",
       "2001.02.17| 481.804\r\n",
       "2001.02.18| 935.1307\r\n",
       "2001.02.19| 709.3398\r\n",
       "2001.02.20| 945.2199\r\n",
       "2001.02.21| 709.2423\r\n",
       "2001.02.22| 2.184472\r\n",
       "2001.02.23| 66.70537\r\n",
       "2001.02.24| 691.8339\r\n",
       "2001.02.25| 430.1331\r\n",
       "2001.02.26| 866.4098\r\n",
       "2001.02.27| 528.1112\r\n",
       "2001.02.28| 64.94865\r\n",
       "2001.03.01| 116.7751\r\n",
       "2001.03.02| 546.4707\r\n",
       "2001.03.03| 256.9845\r\n",
       "2001.03.04| 352.9561\r\n",
       "2001.03.05| 392.3249\r\n",
       "2001.03.06| 830.0722\r\n",
       "2001.03.07| 815.4024\r\n",
       "2001.03.08| 960.1549\r\n",
       "2001.03.09| 25.0985\r\n",
       "2001.03.10| 925.6041\r\n",
       "2001.03.11| 451.9635\r\n",
       "2001.03.12| 664.3834\r\n",
       "2001.03.13| 827.6669\r\n",
       "2001.03.14| 840.735\r\n",
       "2001.03.15| 368.4023\r\n",
       "2001.03.16| 593.0176\r\n",
       "2001.03.17| 474.6581\r\n",
       "2001.03.18| 860.8133\r\n",
       "2001.03.19| 527.7404\r\n",
       "2001.03.20| 959.2286\r\n",
       "2001.03.21| 16.68426\r\n",
       "2001.03.22| 104.7944\r\n",
       "2001.03.23| 699.044\r\n",
       "2001.03.24| 707.851\r\n",
       "2001.03.25| 530.0193\r\n",
       "2001.03.26| 488.2685\r\n",
       "2001.03.27| 4.416594\r\n",
       "2001.03.28| 300.9702\r\n",
       "2001.03.29| 353.7516\r\n",
       "2001.03.30| 750.4491\r\n",
       "2001.03.31| 308.5131\r\n",
       "2001.04.01| 441.0662\r\n",
       "2001.04.02| 547.3385\r\n",
       "2001.04.03| 593.737\r\n",
       "2001.04.04| 88.40718\r\n",
       "2001.04.05| 178.8229\r\n",
       "2001.04.06| 763.2325\r\n",
       "2001.04.07| 927.445\r\n",
       "2001.04.08| 124.7049\r\n",
       "2001.04.09| 366.1485\r\n",
       "2001.04.10| 701.9831\r\n"
      ]
     },
     "execution_count": 8,
     "metadata": {},
     "output_type": "execute_result"
    }
   ],
   "source": [
    "0N!pairs:(2001.01.01+til 100;100?1000f)\n",
    "\n",
    "(!) . pairs"
   ]
  },
  {
   "cell_type": "markdown",
   "metadata": {},
   "source": [
    "## Generating Big Data Set (Simulation)\n",
    "The utilisation of GBM allows for monte carlo simulation\n",
    "<br> Using the stat function introduced above, we will create 1000 simulated paths of 364 steps"
   ]
  },
  {
   "cell_type": "code",
   "execution_count": 9,
   "metadata": {},
   "outputs": [
    {
     "data": {
      "text/plain": [
       "id simulatedPath                                                                                                                                                                                     ..\r\n",
       "-----------------------------------------------------------------------------------------------------------------------------------------------------------------------------------------------------..\r\n",
       "0  98.75482 100.1158 100.1294 100.4128 100.6513 101.8903 100.9388 103.941  99.88314 99.84064 97.9187  97.59032 101.0103 99.63616 99.68635 100.4159 99.59019 99.76416 98.73448 101.3292 97.79205 99.72..\r\n",
       "1  98.85605 97.86719 97.9511  98.15608 100.7072 98.24634 99.21388 102.1344 101.8378 97.40092 98.67161 99.19696 100.9857 98.17369 99.87219 98.85317 100.8452 100.1226 98.5374  99.69734 96.10748 100.3..\r\n",
       "2  99.13311 98.75526 101.1344 103.5733 98.52801 99.35453 98.11154 100.9107 100.8478 100.338  100.2265 99.2773  98.27786 100.1163 98.1185  99.74472 98.32871 97.41662 100.704  98.77166 98.79896 99.92..\r\n",
       "3  99.09148 101.8758 98.67778 101.4109 101.788  99.16107 99.24564 102.2436 101.0056 101.0523 100.32   100.7409 99.149   99.19019 101.2848 100.5259 99.80546 103.9732 97.93068 99.62025 100.7863 100.7..\r\n",
       "4  97.77171 100.8594 99.98839 100.8569 100.9286 101.1687 98.32475 99.22128 103.7371 101.379  102.383  100.4025 99.9541  98.72042 100.5855 99.5242  99.28132 99.44127 100.1673 98.9065  99.24979 97.37..\r\n"
      ]
     },
     "execution_count": 9,
     "metadata": {},
     "output_type": "execute_result"
    },
    {
     "data": {
      "text/plain": [
       "id  simulatedPath                                                                                                                                                                                    ..\r\n",
       "-----------------------------------------------------------------------------------------------------------------------------------------------------------------------------------------------------..\r\n",
       "879 97.63119 99.68746 99.74548 103.797  100.3285 101.1409 100.6397 100.2887 98.91315 100.1925 102.742  99.56649 102.363  100.2339 97.66072 101.4435 101.5434 100.4047 99.97368 102.2011 96.85441 96.7..\r\n",
       "488 103.6471 103.3592 101.3918 100.0954 100.6337 102.2552 102.0478 97.43418 98.72005 99.98064 98.76345 100.1835 99.85744 101.626  101.24   100.5462 99.62043 101.2769 101.1711 99.68234 97.92298 99.2..\r\n",
       "694 100.162  99.09764 102.6879 102.0359 102.6055 98.18979 100.4711 100.4208 99.99886 99.54387 97.56569 99.75428 101.0225 102.0659 98.7836  100.2915 99.69741 99.46039 100.5683 102.0202 95.42576 101...\r\n"
      ]
     },
     "execution_count": 9,
     "metadata": {},
     "output_type": "execute_result"
    }
   ],
   "source": [
    "sim:([] [id:`u#til 1000];simulatedPath:100*.stat.gbm[.30;.05;1%364] .stat.bm each 1000 0N#(1000*364)?1f)\n",
    "5#sim\n",
    "/\n",
    "With the simulated path table, by indexing into each id we can obtain its random (normally distributed returns) path\n",
    "Inspections shows the randomness of the paths\n",
    "\\\n",
    "sim[3?1000]"
   ]
  },
  {
   "cell_type": "markdown",
   "metadata": {},
   "source": [
    "This table is now the distribution of a monte carlo simulation of the price paths\n",
    "Hence we can obtain more information from the distribution summary and graphical inspection of the path which should show the normal distribution of the paths."
   ]
  },
  {
   "cell_type": "code",
   "execution_count": 10,
   "metadata": {},
   "outputs": [
    {
     "data": {
      "text/plain": [
       "maximumPrice| 104.8739 105.7584 105.2852 105.8741 105.6634 105.2721 105.0881 105.1686 104.7318 104.7084 104.8415 105.1801 105.365 105.9546 104.6916 105.1107 105.1567 105.5568 105.3491 104.3825 105...\r\n",
       "minimumPrice| 95.26323 94.28736 95.33541 95.28722 94.62459 94.74116 95.50013 95.27105 94.54047 95.18944 95.46713 93.30627 95.75059 94.34254 95.27742 95.55251 95.01831 94.41785 94.523 95.75953 93.98..\r\n",
       "svPct       | 101.1364 100.9219 101.0707 101.0203 100.897 101.1519 101.1313 100.9169 100.8392 101.0647 101.0711 100.9865 101.2145 100.9475 101.0442 100.9752 101.008 100.9789 101.1383 101.105 101.01..\r\n"
      ]
     },
     "execution_count": 10,
     "metadata": {},
     "output_type": "execute_result"
    }
   ],
   "source": [
    "flip select maximumPrice:max simulatedPath, minimumPrice:min simulatedPath,svPct:{(asc x) floor .75 * count x} each simulatedPath from sim"
   ]
  },
  {
   "cell_type": "code",
   "execution_count": 11,
   "metadata": {
    "collapsed": true
   },
   "outputs": [],
   "source": [
    "\\l importmatplotlib.q"
   ]
  },
  {
   "cell_type": "code",
   "execution_count": 12,
   "metadata": {},
   "outputs": [
    {
     "data": {
      "image/png": "[encoded data removed]",
      "text/plain": [
       "<matplotlib.figure.Figure at 0xc8f2f60>"
      ]
     },
     "metadata": {},
     "output_type": "display_data"
    }
   ],
   "source": [
    "simulatedPathPlt:.matplotlib.pyplot[]\n",
    "\n",
    "paths:sim[`simulatedPath]\n",
    "simulatedPathPlt.plot each paths;\n",
    "simulatedPathPlt.xlabel\"Step (t)\";\n",
    "simulatedPathPlt.ylabel\"Price ($)\";\n",
    "simulatedPathPlt.title\"All 1000 Simulated Paths\";\n",
    "simulatedPathPlt.grid 1b;\n",
    "simulatedPathPlt.show[];"
   ]
  },
  {
   "cell_type": "markdown",
   "metadata": {},
   "source": [
    "## Paraenteses @\n",
    "Parentheses with @ is able to force a function composition expecting a single argument, this allows us to bypass multiple each"
   ]
  },
  {
   "cell_type": "code",
   "execution_count": 14,
   "metadata": {},
   "outputs": [
    {
     "data": {
      "text/plain": [
       "0 8  19 22 31 40 48 50 51 54 62 68 75 76 78 88 89 92 93 98\r\n",
       "3 4  14 15 20 21 28 35 40 50 52 53 73 78 78 83 88 91 91 92\r\n",
       "3 8  16 17 25 29 45 47 48 48 66 73 80 81 83 86 90 93 93 94\r\n",
       "0 8  15 15 20 26 33 33 35 35 37 39 42 55 61 66 68 72 85 96\r\n",
       "3 12 13 14 14 23 25 29 38 43 50 56 57 59 63 85 88 90 96 98\r\n"
      ]
     },
     "execution_count": 14,
     "metadata": {},
     "output_type": "execute_result"
    }
   ],
   "source": [
    "(asc ?[;til 100]@) each 5#20"
   ]
  },
  {
   "cell_type": "markdown",
   "metadata": {},
   "source": [
    "## Sorting for step function\n",
    "Normally used for tick size movement for different stock price, this uses the sorted attribute to step down\n",
    "Internally, this uses the bin function to find a number instead of ?"
   ]
  },
  {
   "cell_type": "code",
   "execution_count": 32,
   "metadata": {},
   "outputs": [
    {
     "data": {
      "text/plain": [
       "0.2 0.75 0.75 0.5 0.5 0.2 0.75\r\n"
      ]
     },
     "execution_count": 32,
     "metadata": {},
     "output_type": "execute_result"
    },
    {
     "name": "stdout",
     "output_type": "stream",
     "text": [
      "`s#`s#0n 5 50 100!0.001 0.005 0.01 0.02\n"
     ]
    },
    {
     "data": {
      "text/plain": [
       "3\r\n"
      ]
     },
     "execution_count": 32,
     "metadata": {},
     "output_type": "execute_result"
    },
    {
     "data": {
      "text/plain": [
       "   | 0.001\r\n",
       "5  | 0.005\r\n",
       "50 | 0.01\r\n",
       "100| 0.02\r\n"
      ]
     },
     "execution_count": 32,
     "metadata": {},
     "output_type": "execute_result"
    }
   ],
   "source": [
    "tickDict:`s#(2 10 50 100)!(0.2 0.5 0.75 1)\n",
    "tickDict 4 55 65 20 11 4 99\n",
    "/this provides the index\n",
    "\n",
    "(asc[1 9 72 5 6]) bin 10 \n",
    "\n",
    ".sim.tickrnd:{if[99h=type x;x@:y];(y;x+y:x*floor y%x)}\n",
    "\n",
    "ts:`s#0n 5 50 100!.001 .005 .01 .02\n",
    "\n",
    "x:ts\n",
    "0N!x\n",
    "/\n",
    "\n",
    "This is not working, need to check the workings of x@:y\n",
    "\\"
   ]
  },
  {
   "cell_type": "markdown",
   "metadata": {},
   "source": [
    "## Joining columns to a table\n",
    "Since tables are flipped dictionary, given the same amount of rows, we can add the columns to the side of the table easily"
   ]
  },
  {
   "cell_type": "code",
   "execution_count": 37,
   "metadata": {},
   "outputs": [
    {
     "data": {
      "text/plain": [
       "sym price\r\n",
       "---------\r\n",
       "gca 8999 \r\n",
       "fnj 6528 \r\n",
       "ppe 9423 \r\n",
       "ffi 5741 \r\n",
       "iop 6700 \r\n",
       "mij 3452 \r\n",
       "ekf 6828 \r\n",
       "hab 6600 \r\n",
       "eoa 3792 \r\n",
       "eee 6605 \r\n"
      ]
     },
     "execution_count": 37,
     "metadata": {},
     "output_type": "execute_result"
    },
    {
     "data": {
      "text/plain": [
       "sym price place close\r\n",
       "---------------------\r\n",
       "gca 8999  b     0    \r\n",
       "fnj 6528  b     32   \r\n",
       "ppe 9423  c     25   \r\n",
       "ffi 5741  c     73   \r\n",
       "iop 6700  c     52   \r\n",
       "mij 3452  a     70   \r\n",
       "ekf 6828  b     43   \r\n",
       "hab 6600  b     33   \r\n",
       "eoa 3792  b     82   \r\n",
       "eee 6605  a     96   \r\n"
      ]
     },
     "execution_count": 37,
     "metadata": {},
     "output_type": "execute_result"
    }
   ],
   "source": [
    "table:([]sym:100?`3;price:100?10000)\n",
    "10#table\n",
    "10#table,' flip `place`close!(100?\"abc\";100?100)"
   ]
  },
  {
   "cell_type": "markdown",
   "metadata": {},
   "source": [
    "## Time internal function\n",
    "In kdbq, we have gtime and ltime\n",
    "- gtime allows us to convert from local to gmt \n",
    "- ltime allows us to convert from gmt to local"
   ]
  },
  {
   "cell_type": "code",
   "execution_count": 5,
   "metadata": {},
   "outputs": [
    {
     "data": {
      "text/plain": [
       "2018.05.10D05:16:10.561077000\r\n"
      ]
     },
     "execution_count": 5,
     "metadata": {},
     "output_type": "execute_result"
    },
    {
     "data": {
      "text/plain": [
       "2018.05.11D05:16:10.562078000\r\n"
      ]
     },
     "execution_count": 5,
     "metadata": {},
     "output_type": "execute_result"
    }
   ],
   "source": [
    "gtime .z.p\n",
    "ltime .z.P"
   ]
  },
  {
   "cell_type": "markdown",
   "metadata": {},
   "source": [
    "## Flexible Return Values\n",
    "\n",
    "When writing functions, it is best to pass the table as an argument and return the modified result.\n",
    "<br> This allows the function to be used to modify global tables (when table name is passed) and local tables (when actual table is passed)\n",
    "<br> There is an advantage of efficiency for global tables"
   ]
  },
  {
   "cell_type": "code",
   "execution_count": 10,
   "metadata": {},
   "outputs": [
    {
     "data": {
      "text/plain": [
       "price\r\n",
       "-----\r\n",
       "70   \r\n",
       "16   \r\n",
       "61   \r\n",
       "32   \r\n",
       "71   \r\n",
       "91   \r\n",
       "74   \r\n",
       "39   \r\n",
       "97   \r\n",
       "48   \r\n"
      ]
     },
     "execution_count": 10,
     "metadata": {},
     "output_type": "execute_result"
    },
    {
     "data": {
      "text/plain": [
       "price\r\n",
       "-----\r\n",
       "140  \r\n",
       "32   \r\n",
       "122  \r\n",
       "64   \r\n",
       "142  \r\n",
       "182  \r\n",
       "148  \r\n",
       "78   \r\n",
       "194  \r\n",
       "96   \r\n",
       "92   \r\n",
       "84   \r\n",
       "116  \r\n",
       "198  \r\n",
       "142  \r\n",
       "104  \r\n",
       "158  \r\n",
       "66   \r\n",
       "86   \r\n",
       "38   \r\n",
       "..\r\n"
      ]
     },
     "execution_count": 10,
     "metadata": {},
     "output_type": "execute_result"
    },
    {
     "data": {
      "text/plain": [
       "`t\r\n"
      ]
     },
     "execution_count": 10,
     "metadata": {},
     "output_type": "execute_result"
    },
    {
     "data": {
      "text/plain": [
       "price\r\n",
       "-----\r\n",
       "140  \r\n",
       "32   \r\n",
       "122  \r\n",
       "64   \r\n",
       "142  \r\n",
       "182  \r\n",
       "148  \r\n",
       "78   \r\n",
       "194  \r\n",
       "96   \r\n"
      ]
     },
     "execution_count": 10,
     "metadata": {},
     "output_type": "execute_result"
    }
   ],
   "source": [
    "10#t:([] price:100?100)\n",
    "{update price:2*price from x} [t] /local table\n",
    "{update price:2*price from x} [`t] /global table\n",
    "10#t\n",
    "/\n",
    "note that function works with both version of t, one as a local table and one as a global table.\n",
    "\\"
   ]
  },
  {
   "cell_type": "markdown",
   "metadata": {},
   "source": [
    "## Table Drop\n",
    "using a neat trick of the dot . operator, we can create a function that drops base on index for table"
   ]
  },
  {
   "cell_type": "code",
   "execution_count": 13,
   "metadata": {},
   "outputs": [
    {
     "name": "stdout",
     "output_type": "stream",
     "text": [
      "x\r\n",
      "-\r\n",
      "5\r\n",
      "6\r\n",
      "8\r\n",
      "1\r\n",
      "1\r\n",
      "6\r\n",
      "4\r\n",
      "9\r\n",
      "1\r\n",
      "1\r\n"
     ]
    },
    {
     "data": {
      "text/plain": [
       "x\r\n",
       "-\r\n",
       "6\r\n",
       "8\r\n",
       "1\r\n",
       "1\r\n",
       "6\r\n",
       "4\r\n",
       "9\r\n",
       "1\r\n",
       "1\r\n"
      ]
     },
     "execution_count": 13,
     "metadata": {},
     "output_type": "execute_result"
    }
   ],
   "source": [
    ".q.drop:.[;();_;]\n",
    "show tbl:([]10?10)\n",
    ".q.drop[tbl;0] /first guy was dropped"
   ]
  },
  {
   "cell_type": "markdown",
   "metadata": {},
   "source": [
    "## Merge of dictionaries\n",
    "When there are two dictionaries, x having all the keys while y having some keys.\n",
    "<br> Using .Q.def[x] y will left join/merge the values in y onto x\n",
    "<br> This works well with command line values since everything comes in as a string. \n",
    "<br> function only merges if string"
   ]
  },
  {
   "cell_type": "code",
   "execution_count": 23,
   "metadata": {},
   "outputs": [
    {
     "name": "stdout",
     "output_type": "stream",
     "text": [
      "time   | 2018.05.10D13:54:56.637259000\r\n",
      "price  | 100\r\n",
      "type   | `abc\r\n",
      "history| `none\r\n",
      "\"\"\n"
     ]
    },
    {
     "data": {
      "text/plain": [
       "\"\"\r\n"
      ]
     },
     "execution_count": 23,
     "metadata": {},
     "output_type": "execute_result"
    },
    {
     "name": "stdout",
     "output_type": "stream",
     "text": [
      "type   | \"bbc\"\r\n",
      "history| \"singapore\"\r\n",
      "\"\"\n",
      "time   | 2018.05.10D13:54:56.637259000\r\n",
      "price  | 100\r\n",
      "type   | `bbc\r\n",
      "history| `singapore\r\n"
     ]
    },
    {
     "data": {
      "text/plain": [
       "\"\"\r\n"
      ]
     },
     "execution_count": 23,
     "metadata": {},
     "output_type": "execute_result"
    }
   ],
   "source": [
    "x:`time`price`type`history!(.z.p;100;`abc;`none)\n",
    "y:`type`history!(\"bbc\";\"singapore\")\n",
    "\n",
    "show x\n",
    "0N!\"\"\n",
    "show y\n",
    "0N!\"\"\n",
    "p:.Q.def[x] y\n",
    "\n",
    "show p"
   ]
  },
  {
   "cell_type": "markdown",
   "metadata": {},
   "source": [
    "## Justify Text\n",
    "We can justify text to match and look better with $"
   ]
  },
  {
   "cell_type": "code",
   "execution_count": 33,
   "metadata": {},
   "outputs": [
    {
     "data": {
      "text/plain": [
       "\"                  hi\"\r\n"
      ]
     },
     "execution_count": 33,
     "metadata": {},
     "output_type": "execute_result"
    }
   ],
   "source": [
    "-20$\"hi\""
   ]
  },
  {
   "cell_type": "code",
   "execution_count": 37,
   "metadata": {},
   "outputs": [
    {
     "data": {
      "text/plain": [
       "1\r\n",
       "2\r\n",
       "3\r\n",
       "::\r\n"
      ]
     },
     "execution_count": 37,
     "metadata": {},
     "output_type": "execute_result"
    }
   ],
   "source": [
    "(1 2 3),(::)"
   ]
  },
  {
   "cell_type": "markdown",
   "metadata": {},
   "source": [
    "## Fixing Q table column names\n",
    "q-sql is a powerful tool but if the column names clashes with specification required, it cant be ran\n",
    "we use .Q.id to fix this"
   ]
  },
  {
   "cell_type": "code",
   "execution_count": 39,
   "metadata": {},
   "outputs": [
    {
     "data": {
      "text/plain": [
       "pct div1\r\n",
       "--------\r\n",
       "        \r\n"
      ]
     },
     "execution_count": 39,
     "metadata": {},
     "output_type": "execute_result"
    }
   ],
   "source": [
    ".Q.id enlist (`$\"pct%\";`div)!\"ff\"$\\:()\n",
    "\n",
    ".utils.mapcal:{[d;t](c^d c:cols t) xcol t}\n",
    "/\n",
    "This allows us to rename cols in any position\n",
    "\\\n"
   ]
  },
  {
   "cell_type": "markdown",
   "metadata": {},
   "source": [
    "## Table can be promoted from dictionaries (key tables are dictionaries)\n",
    "The beauty of exec is that when it is used right, it can simplify select statement that utilises function "
   ]
  },
  {
   "cell_type": "code",
   "execution_count": 11,
   "metadata": {},
   "outputs": [
    {
     "data": {
      "text/plain": [
       "id time      | o  h  l  c \r\n",
       "-------------| -----------\r\n",
       "0  2016.06.13| 40 40 40 40\r\n",
       "1  2005.03.21| 66 66 66 66\r\n",
       "2  2002.01.28| 99 99 99 99\r\n",
       "3  2009.12.14| 25 25 25 25\r\n",
       "4  2008.12.01| 95 95 95 95\r\n",
       "5  2003.01.06| 83 83 83 83\r\n",
       "6  2018.02.19| 31 31 31 31\r\n",
       "7  2000.04.17| 84 84 84 84\r\n",
       "8  2008.10.20| 28 28 28 28\r\n",
       "9  2015.06.22| 18 18 18 18\r\n"
      ]
     },
     "execution_count": 11,
     "metadata": {},
     "output_type": "execute_result"
    },
    {
     "data": {
      "text/plain": [
       "id week      | o  h  l  c \r\n",
       "-------------| -----------\r\n",
       "0  2016.06.13| 40 40 40 40\r\n",
       "1  2005.03.21| 66 66 66 66\r\n",
       "2  2002.01.28| 99 99 99 99\r\n",
       "3  2009.12.14| 25 25 25 25\r\n",
       "4  2008.12.01| 95 95 95 95\r\n",
       "5  2003.01.06| 83 83 83 83\r\n",
       "6  2018.02.19| 31 31 31 31\r\n",
       "7  2000.04.17| 84 84 84 84\r\n",
       "8  2008.10.20| 28 28 28 28\r\n",
       "9  2015.06.22| 18 18 18 18\r\n"
      ]
     },
     "execution_count": 11,
     "metadata": {},
     "output_type": "execute_result"
    },
    {
     "data": {
      "text/plain": [
       "id time      | n mn mx md dv\r\n",
       "-------------| -------------\r\n",
       "0  2016.06.13| 1 40 40 40   \r\n",
       "1  2005.03.21| 1 66 66 66   \r\n",
       "2  2002.01.28| 1 99 99 99   \r\n",
       "3  2009.12.14| 1 25 25 25   \r\n",
       "4  2008.12.01| 1 95 95 95   \r\n",
       "5  2003.01.06| 1 83 83 83   \r\n",
       "6  2018.02.19| 1 31 31 31   \r\n",
       "7  2000.04.17| 1 84 84 84   \r\n",
       "8  2008.10.20| 1 28 28 28   \r\n",
       "9  2015.06.22| 1 18 18 18   \r\n",
       "10 2007.11.12| 1 98 98 98   \r\n",
       "11 2009.12.07| 1 89 89 89   \r\n",
       "12 2006.07.10| 1 65 65 65   \r\n",
       "13 2013.11.25| 1 57 57 57   \r\n",
       "14 2002.11.04| 1 64 64 64   \r\n",
       "15 2016.09.19| 1 57 57 57   \r\n",
       "16 2009.08.24| 1 66 66 66   \r\n",
       "17 2009.03.02| 1 78 78 78   \r\n",
       "18 2015.02.02| 1 90 90 90   \r\n",
       "19 2002.06.10| 1 46 46 46   \r\n",
       "..\r\n"
      ]
     },
     "execution_count": 11,
     "metadata": {},
     "output_type": "execute_result"
    }
   ],
   "source": [
    "t:([] id:til 100;time:100?.z.p;p:100?100)\n",
    "10#select o:first p,h:max p,l:min p,c:last p by id,`week$time from t\n",
    ".stat.ohlc:{`o`h`l`c!(first;max;min;last)@\\:x}\n",
    "10#exec .stat.ohlc p by id,time.week from t /same result but cleaner\n",
    "/\n",
    "hence we use exec by as a quick way to simplify intermediate steps\n",
    "\\\n",
    ".stat.summary:{`n`mn`mx`md`dv!(count;min;max;med;sdev)@\\:x}\n",
    "exec .stat.summary p by id,`week$time from t"
   ]
  },
  {
   "cell_type": "markdown",
   "metadata": {},
   "source": [
    "## Pivoting Tables\n",
    "We are used to looking at pivot tables as they are easier to understand. Hence there are a couple of ways to convert tab;es nto pivots"
   ]
  },
  {
   "cell_type": "code",
   "execution_count": 13,
   "metadata": {
    "collapsed": true
   },
   "outputs": [],
   "source": [
    "/utilises parse to create the pivot\n",
    ".utils.pivots:{[c;g;d;t]\n",
    "    s:\"exec (`$exec string asc distinct \",string[c],\" from t)\";\n",
    "    s,:\"#(`string \",string[c],\")!\",string d;\n",
    "    s,:\" by \", \",\" sv \":\" sv' string flip 2#enlist g,();\n",
    "    s,:\" from t\";\n",
    "    p:eval @ [parse s;1;:;t];\n",
    "    p}\n",
    "/utilises the functional form from prase to create pivot\n",
    ".utils.pivotp:{[c;g;d;t]\n",
    "    u:`$string asc distinct t c;\n",
    "    pf:{x#(`$string y)!z};\n",
    "    p:?[t;();g!g,:();(pf;`u;c;d)];\n",
    "    p}\n",
    "/manually create pivot from q structur\n",
    ".utils.pivotq:{[c;g;d;t]\n",
    "    u:`$string asc distinct t c;\n",
    "    p:asc[key p]#p:group (g,())#t;\n",
    "    p:u#/:(`$string t c)[p]!'t[d] p;\n",
    "    p}"
   ]
  },
  {
   "cell_type": "markdown",
   "metadata": {
    "collapsed": true
   },
   "source": [
    "## Timing Function (utility function)\n",
    "we are able to dynamically amend existing user declared functions to monitor the run time of the functions"
   ]
  },
  {
   "cell_type": "code",
   "execution_count": 66,
   "metadata": {},
   "outputs": [
    {
     "data": {
      "text/plain": [
       "id pid func time\r\n",
       "----------------\r\n"
      ]
     },
     "execution_count": 66,
     "metadata": {},
     "output_type": "execute_result"
    }
   ],
   "source": [
    "/Initialise table\n",
    ".prof.events:flip `id`pid`func`time!\"jjsn\"$\\:()\n",
    ".prof.pid:.prof.id:0\n",
    ".prof.events"
   ]
  },
  {
   "cell_type": "code",
   "execution_count": 67,
   "metadata": {
    "collapsed": true
   },
   "outputs": [],
   "source": [
    ".prof.time:{[n;f;a]\n",
    "    s:.z.p;\n",
    "    id:.prof.id+:1;\n",
    "    pid:.prof.pid;\n",
    "    .prof.pid:id;\n",
    "    r:f . a;\n",
    "    .prof.pid:pid;\n",
    "    `.prof.events upsert (id;pid;n;.z.p-s);\n",
    "    r}\n",
    "/from this timing function we have to put it into our self declared functions\n",
    ".prof.instr:{[n]\n",
    "    m:get f:get n;\n",
    "    system \"d .\",string first m 3;\n",
    "    n set (')[.prof.time[n;f];enlist];\n",
    "    system \"d .\";\n",
    "    n}"
   ]
  },
  {
   "cell_type": "code",
   "execution_count": 68,
   "metadata": {},
   "outputs": [
    {
     "data": {
      "text/plain": [
       "{x*x}\r\n"
      ]
     },
     "execution_count": 68,
     "metadata": {},
     "output_type": "execute_result"
    },
    {
     "data": {
      "text/plain": [
       "`.test.difficult\r\n"
      ]
     },
     "execution_count": 68,
     "metadata": {},
     "output_type": "execute_result"
    },
    {
     "data": {
      "text/plain": [
       "{[n;f;a]\r\n",
       "    s:.z.p;\r\n",
       "    id:.prof.id+:1;\r\n",
       "    pid:.prof.pid;\r\n",
       "    .prof.pid:id;\r\n",
       "    r:f . a;\r\n",
       "    .prof.pid:pid;\r\n",
       "    `.prof.events upsert (id;pid;n;.z.p-s);\r\n",
       "    r}[`.test.difficult;{x*x}]enlist\r\n"
      ]
     },
     "execution_count": 68,
     "metadata": {},
     "output_type": "execute_result"
    }
   ],
   "source": [
    ".test.difficult:{x*x}\n",
    ".test.difficult\n",
    ".prof.instr[`.test.difficult]\n",
    ".test.difficult"
   ]
  },
  {
   "cell_type": "code",
   "execution_count": 69,
   "metadata": {},
   "outputs": [
    {
     "data": {
      "text/plain": [
       "4\r\n"
      ]
     },
     "execution_count": 69,
     "metadata": {},
     "output_type": "execute_result"
    },
    {
     "data": {
      "text/plain": [
       "id pid func            time                \r\n",
       "-------------------------------------------\r\n",
       "1  0   .test.difficult 0D00:00:00.000000000\r\n"
      ]
     },
     "execution_count": 69,
     "metadata": {},
     "output_type": "execute_result"
    }
   ],
   "source": [
    ".test.difficult[2]\n",
    ".prof.events"
   ]
  },
  {
   "cell_type": "markdown",
   "metadata": {},
   "source": [
    "## Newton-Raphson with while loop\n",
    "This is a format of NR algo with the scan function - scan iterate while\n",
    "- e: error tolerance\n",
    "- f: function with it's derivatives\n",
    "- x: inital guess"
   ]
  },
  {
   "cell_type": "code",
   "execution_count": 9,
   "metadata": {},
   "outputs": [
    {
     "data": {
      "text/plain": [
       "1 1.5 1.416667 1.414216 1.414214 1.414214\r\n"
      ]
     },
     "execution_count": 9,
     "metadata": {},
     "output_type": "execute_result"
    }
   ],
   "source": [
    ".stat.nr:{[e;f;x] $[e>abs d:first [r]%last r: f x;x;x-d]}\n",
    "f:{(-2+x*x;2*x)}\n",
    ".stat.nr[0f;f]\\[1f]"
   ]
  },
  {
   "cell_type": "markdown",
   "metadata": {},
   "source": [
    "## Inverting a function\n",
    "Inverting a function is for us to find its roots\n",
    "- rf: root-finding algo\n",
    "- f: function with f(x) and f'(x)\n",
    "- y: y value to be inverted\n",
    "- x: inital guess"
   ]
  },
  {
   "cell_type": "code",
   "execution_count": 24,
   "metadata": {},
   "outputs": [
    {
     "data": {
      "text/plain": [
       "1 1.5 1.416667 1.414216 1.414214 1.414214\r\n"
      ]
     },
     "execution_count": 24,
     "metadata": {},
     "output_type": "execute_result"
    }
   ],
   "source": [
    ".stat.invert:{[rf;f;y;x] rf[(neg y;0f)+f@]x}\n",
    ".stat.invert[.stat.nr[0f];{(x*x;2*x)};2]\\[1f]\n",
    "/\n",
    "This inversion method is very useful for inverting the Black-Scholes-Merton formula\n",
    "This helps in calculation of the implied volatility of a specific option price.\n",
    "\\"
   ]
  },
  {
   "cell_type": "markdown",
   "metadata": {},
   "source": [
    "## BSM Model Inversion\n",
    "...To be developed..."
   ]
  }
 ],
 "metadata": {
  "kernelspec": {
   "display_name": "Q 3.5",
   "language": "q",
   "name": "qpk"
  },
  "language_info": {
   "file_extension": ".q",
   "mimetype": "text/x-q",
   "name": "q",
   "version": "3.5.0"
  }
 },
 "nbformat": 4,
 "nbformat_minor": 2
}
